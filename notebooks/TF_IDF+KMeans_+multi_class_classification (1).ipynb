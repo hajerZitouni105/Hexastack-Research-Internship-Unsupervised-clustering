{
  "cells": [
    {
      "cell_type": "code",
      "execution_count": 1,
      "metadata": {
        "colab": {
          "base_uri": "https://localhost:8080/"
        },
        "id": "WtQ4kYSw_hde",
        "outputId": "4e27cedd-3d58-41ba-a22c-4b724ac4323c"
      },
      "outputs": [
        {
          "name": "stdout",
          "output_type": "stream",
          "text": [
            "Defaulting to user installation because normal site-packages is not writeable\n",
            "Requirement already satisfied: tweet-preprocessor in c:\\users\\hajer\\appdata\\roaming\\python\\python310\\site-packages (0.6.0)\n"
          ]
        },
        {
          "name": "stderr",
          "output_type": "stream",
          "text": [
            "WARNING: Ignoring invalid distribution -ip (c:\\users\\hajer\\appdata\\roaming\\python\\python310\\site-packages)\n",
            "WARNING: Ignoring invalid distribution -ip (c:\\users\\hajer\\appdata\\roaming\\python\\python310\\site-packages)\n",
            "WARNING: Ignoring invalid distribution -ip (c:\\users\\hajer\\appdata\\roaming\\python\\python310\\site-packages)\n",
            "WARNING: Ignoring invalid distribution -ip (c:\\users\\hajer\\appdata\\roaming\\python\\python310\\site-packages)\n"
          ]
        }
      ],
      "source": [
        "!pip install tweet-preprocessor"
      ]
    },
    {
      "cell_type": "code",
      "execution_count": 2,
      "metadata": {
        "id": "nTKyVEy5__ud"
      },
      "outputs": [],
      "source": [
        "import pandas as pd\n",
        "import re\n",
        "import preprocessor as p\n",
        "from sklearn.cluster import KMeans\n",
        "import matplotlib.pyplot as plt\n"
      ]
    },
    {
      "cell_type": "code",
      "execution_count": 3,
      "metadata": {
        "colab": {
          "base_uri": "https://localhost:8080/",
          "height": 206
        },
        "id": "h83aLwrETXCT",
        "outputId": "43fbb059-c770-4c34-8f61-13740479000e"
      },
      "outputs": [
        {
          "data": {
            "text/html": [
              "<div>\n",
              "<style scoped>\n",
              "    .dataframe tbody tr th:only-of-type {\n",
              "        vertical-align: middle;\n",
              "    }\n",
              "\n",
              "    .dataframe tbody tr th {\n",
              "        vertical-align: top;\n",
              "    }\n",
              "\n",
              "    .dataframe thead th {\n",
              "        text-align: right;\n",
              "    }\n",
              "</style>\n",
              "<table border=\"1\" class=\"dataframe\">\n",
              "  <thead>\n",
              "    <tr style=\"text-align: right;\">\n",
              "      <th></th>\n",
              "      <th>Sentence</th>\n",
              "      <th>Cluster</th>\n",
              "    </tr>\n",
              "  </thead>\n",
              "  <tbody>\n",
              "    <tr>\n",
              "      <th>0</th>\n",
              "      <td>The quadratic equation is used to solve second...</td>\n",
              "      <td>Maths</td>\n",
              "    </tr>\n",
              "    <tr>\n",
              "      <th>1</th>\n",
              "      <td>Trigonometry helps calculate angles and distan...</td>\n",
              "      <td>Maths</td>\n",
              "    </tr>\n",
              "    <tr>\n",
              "      <th>2</th>\n",
              "      <td>Einstein's theory of relativity revolutionized...</td>\n",
              "      <td>Physics</td>\n",
              "    </tr>\n",
              "    <tr>\n",
              "      <th>3</th>\n",
              "      <td>The laws of thermodynamics explain the transfe...</td>\n",
              "      <td>Physics</td>\n",
              "    </tr>\n",
              "    <tr>\n",
              "      <th>4</th>\n",
              "      <td>Chemical reactions occur when atoms rearrange ...</td>\n",
              "      <td>Science</td>\n",
              "    </tr>\n",
              "  </tbody>\n",
              "</table>\n",
              "</div>"
            ],
            "text/plain": [
              "                                            Sentence  Cluster\n",
              "0  The quadratic equation is used to solve second...    Maths\n",
              "1  Trigonometry helps calculate angles and distan...    Maths\n",
              "2  Einstein's theory of relativity revolutionized...  Physics\n",
              "3  The laws of thermodynamics explain the transfe...  Physics\n",
              "4  Chemical reactions occur when atoms rearrange ...  Science"
            ]
          },
          "execution_count": 3,
          "metadata": {},
          "output_type": "execute_result"
        }
      ],
      "source": [
        "import pandas as pd\n",
        "\n",
        "#creating a dataframe for our dataset \"subject_questions\"\n",
        "df = pd.read_csv(\"Sentence,Cluster.txt\")\n",
        "\n",
        "#printing first 5 rows of our dataset/dataframe\n",
        "df.head()"
      ]
    },
    {
      "cell_type": "code",
      "execution_count": 4,
      "metadata": {
        "colab": {
          "base_uri": "https://localhost:8080/"
        },
        "id": "yIv7PpfYALmX",
        "outputId": "50394965-ab55-4b9e-8f80-ed7926e8aef9"
      },
      "outputs": [
        {
          "data": {
            "text/plain": [
              "(442, 2)"
            ]
          },
          "execution_count": 4,
          "metadata": {},
          "output_type": "execute_result"
        }
      ],
      "source": [
        "df.shape"
      ]
    },
    {
      "cell_type": "code",
      "execution_count": 6,
      "metadata": {
        "id": "qrUbAk1mAp0a"
      },
      "outputs": [],
      "source": [
        "#encoding labels\n",
        "\n",
        "df['Cluster']=df['Cluster'].map({'Science':0,\n",
        "                             'Sport':1,\n",
        "                             'Physics':2,\n",
        "                             'Maths':3,\n",
        "                             'Literature':4,\n",
        "                            'Economics':5,\n",
        "                            'Programming':6   \n",
        "                                 })"
      ]
    },
    {
      "cell_type": "code",
      "execution_count": 8,
      "metadata": {
        "colab": {
          "base_uri": "https://localhost:8080/",
          "height": 206
        },
        "id": "SmfwwIXkBvyG",
        "outputId": "4d643543-32e0-48d7-d123-c8caf62cde78"
      },
      "outputs": [
        {
          "data": {
            "text/html": [
              "<div>\n",
              "<style scoped>\n",
              "    .dataframe tbody tr th:only-of-type {\n",
              "        vertical-align: middle;\n",
              "    }\n",
              "\n",
              "    .dataframe tbody tr th {\n",
              "        vertical-align: top;\n",
              "    }\n",
              "\n",
              "    .dataframe thead th {\n",
              "        text-align: right;\n",
              "    }\n",
              "</style>\n",
              "<table border=\"1\" class=\"dataframe\">\n",
              "  <thead>\n",
              "    <tr style=\"text-align: right;\">\n",
              "      <th></th>\n",
              "      <th>Sentence</th>\n",
              "      <th>Cluster</th>\n",
              "    </tr>\n",
              "  </thead>\n",
              "  <tbody>\n",
              "    <tr>\n",
              "      <th>0</th>\n",
              "      <td>The quadratic equation is used to solve second...</td>\n",
              "      <td>3</td>\n",
              "    </tr>\n",
              "    <tr>\n",
              "      <th>1</th>\n",
              "      <td>Trigonometry helps calculate angles and distan...</td>\n",
              "      <td>3</td>\n",
              "    </tr>\n",
              "    <tr>\n",
              "      <th>2</th>\n",
              "      <td>Einstein's theory of relativity revolutionized...</td>\n",
              "      <td>2</td>\n",
              "    </tr>\n",
              "    <tr>\n",
              "      <th>3</th>\n",
              "      <td>The laws of thermodynamics explain the transfe...</td>\n",
              "      <td>2</td>\n",
              "    </tr>\n",
              "    <tr>\n",
              "      <th>4</th>\n",
              "      <td>Chemical reactions occur when atoms rearrange ...</td>\n",
              "      <td>0</td>\n",
              "    </tr>\n",
              "  </tbody>\n",
              "</table>\n",
              "</div>"
            ],
            "text/plain": [
              "                                            Sentence  Cluster\n",
              "0  The quadratic equation is used to solve second...        3\n",
              "1  Trigonometry helps calculate angles and distan...        3\n",
              "2  Einstein's theory of relativity revolutionized...        2\n",
              "3  The laws of thermodynamics explain the transfe...        2\n",
              "4  Chemical reactions occur when atoms rearrange ...        0"
            ]
          },
          "execution_count": 8,
          "metadata": {},
          "output_type": "execute_result"
        }
      ],
      "source": [
        "df.head()"
      ]
    },
    {
      "cell_type": "code",
      "execution_count": 7,
      "metadata": {
        "id": "CLE2IJDICTja"
      },
      "outputs": [],
      "source": [
        "def clean_tweets(df):\n",
        "    # punctuations we want to be replaced\n",
        "    REPLACE_NO_SPACE = re.compile(\"(\\.)|(\\;)|(\\:)|(\\!)|(\\')|(\\?)|(\\,)|(\\\")|(\\|)|(\\()|(\\))|(\\[)|(\\])|(\\%)|(\\$)|(\\>)|(\\<)|(\\{)|(\\})\")\n",
        "    REPLACE_WITH_SPACE = re.compile(\"(<br\\s/><br\\s/?)|(-)|(/)|(:).\")\n",
        "    corpus = []\n",
        "    for line in df:\n",
        "        # clean data by sending it to tweet_processor\n",
        "        sentence = p.clean(line)\n",
        "        # remove puctuation\n",
        "        sentence = REPLACE_NO_SPACE.sub(\"\", sentence.lower()) # convert all tweets to lower cases\n",
        "        sentence = REPLACE_WITH_SPACE.sub(\" \", sentence)\n",
        "        corpus.append(sentence)\n",
        "    return corpus"
      ]
    },
    {
      "cell_type": "code",
      "execution_count": 9,
      "metadata": {
        "colab": {
          "base_uri": "https://localhost:8080/"
        },
        "id": "na3hZg11CdsX",
        "outputId": "5c763a2b-f282-4e75-9eed-ca6f3ecfec8e"
      },
      "outputs": [
        {
          "data": {
            "text/plain": [
              "(442, 3)"
            ]
          },
          "execution_count": 9,
          "metadata": {},
          "output_type": "execute_result"
        }
      ],
      "source": [
        "df['Sentence_clean'] = clean_tweets(df['Sentence'])\n",
        "df.shape"
      ]
    },
    {
      "cell_type": "code",
      "execution_count": 10,
      "metadata": {
        "colab": {
          "base_uri": "https://localhost:8080/"
        },
        "id": "fOrFHwTIGugc",
        "outputId": "8921e7a9-3447-4932-e845-7e7fc1c7a799"
      },
      "outputs": [
        {
          "data": {
            "text/plain": [
              "0      the quadratic equation is used to solve second...\n",
              "1      trigonometry helps calculate angles and distan...\n",
              "2      einsteins theory of relativity revolutionized ...\n",
              "3      the laws of thermodynamics explain the transfe...\n",
              "4      chemical reactions occur when atoms rearrange ...\n",
              "                             ...                        \n",
              "437    analyze the process of cellular respiration an...\n",
              "438    apply game theory concepts such as dominant st...\n",
              "439    calculate the gross national product gnp by su...\n",
              "440    use economic models such as the solow growth m...\n",
              "441    implement web scraping techniques in python to...\n",
              "Name: Sentence_clean, Length: 442, dtype: object"
            ]
          },
          "execution_count": 10,
          "metadata": {},
          "output_type": "execute_result"
        }
      ],
      "source": [
        "df['Sentence_clean']"
      ]
    },
    {
      "cell_type": "code",
      "execution_count": 11,
      "metadata": {
        "id": "DmXrSiIIC3wT"
      },
      "outputs": [],
      "source": [
        "corpus = list(df['Sentence_clean'])"
      ]
    },
    {
      "cell_type": "code",
      "execution_count": 24,
      "metadata": {},
      "outputs": [],
      "source": [
        "!pip install allennlp"
      ]
    },
    {
      "cell_type": "code",
      "execution_count": null,
      "metadata": {
        "id": "LTlAqVySDFBj"
      },
      "outputs": [
        {
          "ename": "ModuleNotFoundError",
          "evalue": "No module named 'allennlp'",
          "output_type": "error",
          "traceback": [
            "\u001b[1;31m---------------------------------------------------------------------------\u001b[0m",
            "\u001b[1;31mModuleNotFoundError\u001b[0m                       Traceback (most recent call last)",
            "Cell \u001b[1;32mIn[22], line 1\u001b[0m\n\u001b[1;32m----> 1\u001b[0m \u001b[39mfrom\u001b[39;00m \u001b[39mallennlp\u001b[39;00m\u001b[39m.\u001b[39;00m\u001b[39mcommands\u001b[39;00m\u001b[39m.\u001b[39;00m\u001b[39melmo\u001b[39;00m \u001b[39mimport\u001b[39;00m ElmoEmbedder\n\u001b[0;32m      3\u001b[0m \u001b[39m# ElMO\u001b[39;00m\n\u001b[0;32m      4\u001b[0m elmo_embedder \u001b[39m=\u001b[39m ElmoEmbedder()\n",
            "\u001b[1;31mModuleNotFoundError\u001b[0m: No module named 'allennlp'"
          ]
        }
      ],
      "source": [
        "from allennlp.commands.elmo import ElmoEmbedder\n",
        "\n",
        "# ElMO\n",
        "elmo_embedder = ElmoEmbedder()\n",
        "sentence_embeddings = list(elmo_embedder.embed_sentences(sentences))"
      ]
    },
    {
      "cell_type": "code",
      "execution_count": 13,
      "metadata": {
        "colab": {
          "base_uri": "https://localhost:8080/"
        },
        "id": "mwueaJMWDVVQ",
        "outputId": "46eda183-52d4-4767-cdfb-286041337cdb"
      },
      "outputs": [
        {
          "name": "stderr",
          "output_type": "stream",
          "text": [
            "C:\\Users\\hajer\\AppData\\Roaming\\Python\\Python310\\site-packages\\sklearn\\cluster\\_kmeans.py:870: FutureWarning: The default value of `n_init` will change from 10 to 'auto' in 1.4. Set the value of `n_init` explicitly to suppress the warning\n",
            "  warnings.warn(\n"
          ]
        },
        {
          "data": {
            "text/plain": [
              "array([1, 3, 3, 4, 0, 3, 3, 3, 1, 1, 2, 3, 1, 4, 1, 1, 3, 6, 1, 3, 1, 0,\n",
              "       3, 1, 1, 1, 3, 1, 5, 3, 3, 3, 3, 2, 1, 3, 3, 5, 1, 1, 3, 1, 3, 3,\n",
              "       3, 6, 1, 3, 1, 5, 3, 3, 1, 1, 3, 1, 0, 4, 4, 6, 1, 3, 1, 3, 3, 3,\n",
              "       1, 3, 3, 1, 3, 4, 3, 6, 1, 3, 1, 1, 3, 3, 3, 1, 2, 1, 3, 3, 4, 6,\n",
              "       3, 3, 1, 0, 3, 3, 1, 3, 3, 1, 0, 4, 3, 6, 3, 3, 1, 5, 3, 3, 6, 3,\n",
              "       3, 1, 0, 3, 4, 6, 0, 0, 3, 3, 3, 3, 3, 3, 3, 1, 3, 4, 3, 6, 3, 3,\n",
              "       3, 1, 3, 3, 2, 3, 1, 3, 3, 2, 1, 3, 1, 4, 3, 1, 3, 3, 1, 3, 1, 3,\n",
              "       3, 3, 3, 4, 3, 3, 3, 3, 3, 3, 3, 3, 3, 3, 5, 4, 3, 6, 0, 3, 1, 3,\n",
              "       3, 3, 6, 3, 3, 1, 0, 3, 3, 6, 3, 3, 1, 0, 0, 3, 6, 3, 3, 3, 5, 3,\n",
              "       5, 1, 1, 1, 0, 3, 3, 2, 2, 1, 1, 5, 1, 4, 3, 3, 6, 1, 3, 1, 0, 3,\n",
              "       3, 6, 1, 3, 1, 3, 4, 3, 6, 1, 3, 1, 3, 3, 3, 6, 0, 3, 1, 0, 3, 3,\n",
              "       2, 1, 3, 3, 3, 3, 4, 3, 3, 3, 3, 1, 3, 3, 0, 3, 3, 5, 3, 5, 1, 1,\n",
              "       1, 0, 3, 3, 2, 2, 1, 1, 5, 1, 5, 1, 0, 3, 2, 2, 4, 5, 5, 3, 0, 4,\n",
              "       4, 5, 3, 0, 2, 4, 5, 3, 0, 2, 4, 5, 3, 3, 3, 3, 1, 3, 0, 3, 4, 5,\n",
              "       3, 5, 5, 5, 3, 0, 5, 3, 3, 5, 5, 4, 5, 4, 3, 5, 5, 5, 5, 5, 0, 4,\n",
              "       3, 3, 2, 4, 4, 3, 5, 3, 5, 5, 3, 3, 0, 3, 3, 2, 3, 4, 4, 4, 5, 4,\n",
              "       5, 5, 4, 3, 4, 3, 3, 4, 5, 3, 5, 5, 5, 5, 0, 3, 0, 2, 5, 5, 4, 4,\n",
              "       4, 3, 3, 5, 5, 5, 4, 3, 0, 4, 4, 5, 3, 4, 4, 4, 3, 5, 5, 5, 5, 4,\n",
              "       3, 3, 4, 2, 2, 4, 4, 4, 4, 3, 5, 5, 5, 4, 3, 4, 3, 4, 4, 3, 5, 5,\n",
              "       5, 5, 4, 3, 4, 4, 4, 5, 4, 4, 4, 4, 3, 5, 5, 5, 4, 3, 3, 4, 4, 3,\n",
              "       4, 4])"
            ]
          },
          "execution_count": 13,
          "metadata": {},
          "output_type": "execute_result"
        }
      ],
      "source": [
        "num_clusters = 7\n",
        "clustering_model = KMeans(n_clusters=num_clusters)\n",
        "clustering_model.fit(tfidf_matrix)\n",
        "cluster_assignment = clustering_model.labels_\n",
        "cluster_assignment"
      ]
    },
    {
      "cell_type": "code",
      "execution_count": 14,
      "metadata": {
        "colab": {
          "base_uri": "https://localhost:8080/",
          "height": 676
        },
        "id": "cIPAYda9Dkk8",
        "outputId": "2773d2c2-fc48-4cde-b5d9-8e5a90600182"
      },
      "outputs": [
        {
          "data": {
            "text/html": [
              "<div>\n",
              "<style scoped>\n",
              "    .dataframe tbody tr th:only-of-type {\n",
              "        vertical-align: middle;\n",
              "    }\n",
              "\n",
              "    .dataframe tbody tr th {\n",
              "        vertical-align: top;\n",
              "    }\n",
              "\n",
              "    .dataframe thead th {\n",
              "        text-align: right;\n",
              "    }\n",
              "</style>\n",
              "<table border=\"1\" class=\"dataframe\">\n",
              "  <thead>\n",
              "    <tr style=\"text-align: right;\">\n",
              "      <th></th>\n",
              "      <th>Sentence</th>\n",
              "      <th>Cluster</th>\n",
              "      <th>Sentence_clean</th>\n",
              "      <th>cluster</th>\n",
              "    </tr>\n",
              "  </thead>\n",
              "  <tbody>\n",
              "    <tr>\n",
              "      <th>0</th>\n",
              "      <td>The quadratic equation is used to solve second...</td>\n",
              "      <td>3</td>\n",
              "      <td>the quadratic equation is used to solve second...</td>\n",
              "      <td>1</td>\n",
              "    </tr>\n",
              "    <tr>\n",
              "      <th>1</th>\n",
              "      <td>Trigonometry helps calculate angles and distan...</td>\n",
              "      <td>3</td>\n",
              "      <td>trigonometry helps calculate angles and distan...</td>\n",
              "      <td>3</td>\n",
              "    </tr>\n",
              "    <tr>\n",
              "      <th>2</th>\n",
              "      <td>Einstein's theory of relativity revolutionized...</td>\n",
              "      <td>2</td>\n",
              "      <td>einsteins theory of relativity revolutionized ...</td>\n",
              "      <td>3</td>\n",
              "    </tr>\n",
              "    <tr>\n",
              "      <th>3</th>\n",
              "      <td>The laws of thermodynamics explain the transfe...</td>\n",
              "      <td>2</td>\n",
              "      <td>the laws of thermodynamics explain the transfe...</td>\n",
              "      <td>4</td>\n",
              "    </tr>\n",
              "    <tr>\n",
              "      <th>4</th>\n",
              "      <td>Chemical reactions occur when atoms rearrange ...</td>\n",
              "      <td>0</td>\n",
              "      <td>chemical reactions occur when atoms rearrange ...</td>\n",
              "      <td>0</td>\n",
              "    </tr>\n",
              "    <tr>\n",
              "      <th>5</th>\n",
              "      <td>The human body consists of trillions of cells.</td>\n",
              "      <td>0</td>\n",
              "      <td>the human body consists of trillions of cells</td>\n",
              "      <td>3</td>\n",
              "    </tr>\n",
              "    <tr>\n",
              "      <th>6</th>\n",
              "      <td>Cristiano Ronaldo scored a goal in the soccer ...</td>\n",
              "      <td>1</td>\n",
              "      <td>cristiano ronaldo scored a goal in the soccer ...</td>\n",
              "      <td>3</td>\n",
              "    </tr>\n",
              "    <tr>\n",
              "      <th>7</th>\n",
              "      <td>Usain Bolt holds the world record for the 100-...</td>\n",
              "      <td>1</td>\n",
              "      <td>usain bolt holds the world record for the  met...</td>\n",
              "      <td>3</td>\n",
              "    </tr>\n",
              "    <tr>\n",
              "      <th>8</th>\n",
              "      <td>William Shakespeare is known for his plays and...</td>\n",
              "      <td>4</td>\n",
              "      <td>william shakespeare is known for his plays and...</td>\n",
              "      <td>1</td>\n",
              "    </tr>\n",
              "    <tr>\n",
              "      <th>9</th>\n",
              "      <td>To Kill a Mockingbird is a classic novel by Ha...</td>\n",
              "      <td>4</td>\n",
              "      <td>to kill a mockingbird is a classic novel by ha...</td>\n",
              "      <td>1</td>\n",
              "    </tr>\n",
              "    <tr>\n",
              "      <th>10</th>\n",
              "      <td>Supply and demand determine the prices of good...</td>\n",
              "      <td>5</td>\n",
              "      <td>supply and demand determine the prices of good...</td>\n",
              "      <td>2</td>\n",
              "    </tr>\n",
              "    <tr>\n",
              "      <th>11</th>\n",
              "      <td>The stock market is influenced by various econ...</td>\n",
              "      <td>5</td>\n",
              "      <td>the stock market is influenced by various econ...</td>\n",
              "      <td>3</td>\n",
              "    </tr>\n",
              "    <tr>\n",
              "      <th>12</th>\n",
              "      <td>Java is a versatile programming language used ...</td>\n",
              "      <td>6</td>\n",
              "      <td>java is a versatile programming language used ...</td>\n",
              "      <td>1</td>\n",
              "    </tr>\n",
              "    <tr>\n",
              "      <th>13</th>\n",
              "      <td>Machine learning algorithms enable computers t...</td>\n",
              "      <td>6</td>\n",
              "      <td>machine learning algorithms enable computers t...</td>\n",
              "      <td>4</td>\n",
              "    </tr>\n",
              "    <tr>\n",
              "      <th>14</th>\n",
              "      <td>The chemical formula for water is H2O.</td>\n",
              "      <td>0</td>\n",
              "      <td>the chemical formula for water is h2o</td>\n",
              "      <td>1</td>\n",
              "    </tr>\n",
              "    <tr>\n",
              "      <th>15</th>\n",
              "      <td>Gravity is responsible for the attractive forc...</td>\n",
              "      <td>2</td>\n",
              "      <td>gravity is responsible for the attractive forc...</td>\n",
              "      <td>1</td>\n",
              "    </tr>\n",
              "    <tr>\n",
              "      <th>16</th>\n",
              "      <td>Algebra is a branch of mathematics that deals ...</td>\n",
              "      <td>3</td>\n",
              "      <td>algebra is a branch of mathematics that deals ...</td>\n",
              "      <td>3</td>\n",
              "    </tr>\n",
              "    <tr>\n",
              "      <th>17</th>\n",
              "      <td>Tennis requires agility, skill, and strategy.</td>\n",
              "      <td>1</td>\n",
              "      <td>tennis requires agility skill and strategy</td>\n",
              "      <td>6</td>\n",
              "    </tr>\n",
              "    <tr>\n",
              "      <th>18</th>\n",
              "      <td>Macbeth is one of Shakespeare's tragic plays.</td>\n",
              "      <td>4</td>\n",
              "      <td>macbeth is one of shakespeares tragic plays</td>\n",
              "      <td>1</td>\n",
              "    </tr>\n",
              "    <tr>\n",
              "      <th>19</th>\n",
              "      <td>Inflation affects the purchasing power of a cu...</td>\n",
              "      <td>5</td>\n",
              "      <td>inflation affects the purchasing power of a cu...</td>\n",
              "      <td>3</td>\n",
              "    </tr>\n",
              "  </tbody>\n",
              "</table>\n",
              "</div>"
            ],
            "text/plain": [
              "                                             Sentence  Cluster   \n",
              "0   The quadratic equation is used to solve second...        3  \\\n",
              "1   Trigonometry helps calculate angles and distan...        3   \n",
              "2   Einstein's theory of relativity revolutionized...        2   \n",
              "3   The laws of thermodynamics explain the transfe...        2   \n",
              "4   Chemical reactions occur when atoms rearrange ...        0   \n",
              "5      The human body consists of trillions of cells.        0   \n",
              "6   Cristiano Ronaldo scored a goal in the soccer ...        1   \n",
              "7   Usain Bolt holds the world record for the 100-...        1   \n",
              "8   William Shakespeare is known for his plays and...        4   \n",
              "9   To Kill a Mockingbird is a classic novel by Ha...        4   \n",
              "10  Supply and demand determine the prices of good...        5   \n",
              "11  The stock market is influenced by various econ...        5   \n",
              "12  Java is a versatile programming language used ...        6   \n",
              "13  Machine learning algorithms enable computers t...        6   \n",
              "14             The chemical formula for water is H2O.        0   \n",
              "15  Gravity is responsible for the attractive forc...        2   \n",
              "16  Algebra is a branch of mathematics that deals ...        3   \n",
              "17      Tennis requires agility, skill, and strategy.        1   \n",
              "18      Macbeth is one of Shakespeare's tragic plays.        4   \n",
              "19  Inflation affects the purchasing power of a cu...        5   \n",
              "\n",
              "                                       Sentence_clean  cluster  \n",
              "0   the quadratic equation is used to solve second...        1  \n",
              "1   trigonometry helps calculate angles and distan...        3  \n",
              "2   einsteins theory of relativity revolutionized ...        3  \n",
              "3   the laws of thermodynamics explain the transfe...        4  \n",
              "4   chemical reactions occur when atoms rearrange ...        0  \n",
              "5       the human body consists of trillions of cells        3  \n",
              "6   cristiano ronaldo scored a goal in the soccer ...        3  \n",
              "7   usain bolt holds the world record for the  met...        3  \n",
              "8   william shakespeare is known for his plays and...        1  \n",
              "9   to kill a mockingbird is a classic novel by ha...        1  \n",
              "10  supply and demand determine the prices of good...        2  \n",
              "11  the stock market is influenced by various econ...        3  \n",
              "12  java is a versatile programming language used ...        1  \n",
              "13  machine learning algorithms enable computers t...        4  \n",
              "14              the chemical formula for water is h2o        1  \n",
              "15  gravity is responsible for the attractive forc...        1  \n",
              "16  algebra is a branch of mathematics that deals ...        3  \n",
              "17         tennis requires agility skill and strategy        6  \n",
              "18        macbeth is one of shakespeares tragic plays        1  \n",
              "19  inflation affects the purchasing power of a cu...        3  "
            ]
          },
          "execution_count": 14,
          "metadata": {},
          "output_type": "execute_result"
        }
      ],
      "source": [
        "df['cluster']=cluster_assignment\n",
        "df.head(20)"
      ]
    },
    {
      "cell_type": "code",
      "execution_count": 15,
      "metadata": {
        "id": "OAD0nrArPGG3"
      },
      "outputs": [],
      "source": [
        "import numpy as np\n",
        "\n",
        "def tri_et_index(tableau):\n",
        "    # Obtenir les indices des valeurs triées en ordre décroissant\n",
        "    indices_tries = np.flip(np.argsort(tableau))\n",
        "\n",
        "    return indices_tries"
      ]
    },
    {
      "cell_type": "code",
      "execution_count": 17,
      "metadata": {
        "id": "X6Mhcjd9O9E6"
      },
      "outputs": [],
      "source": [
        "import numpy as np\n",
        "\n",
        "def map_labels(predicted_labels, true_labels):\n",
        "    unique_predicted_labels = np.unique(predicted_labels)\n",
        "    label_mapping = {index: 10 for index in unique_predicted_labels}\n",
        "\n",
        "    for predicted_label in unique_predicted_labels:\n",
        "        i=0\n",
        "        mask = predicted_labels == predicted_label\n",
        "        cluster_true_labels = true_labels[mask]\n",
        "        true_label_counts = np.bincount(cluster_true_labels)\n",
        "        indexs=tri_et_index(true_label_counts)\n",
        "        most_frequent_true_label=indexs[i]\n",
        "        l=[label_mapping[label] for label in unique_predicted_labels]\n",
        "\n",
        "        while most_frequent_true_label in l[:predicted_label]:\n",
        "            most_frequent_true_label = indexs[i+1]\n",
        "            i+=1\n",
        "        label_mapping[predicted_label] = most_frequent_true_label\n",
        "\n",
        "    return label_mapping\n",
        "\n",
        "label_mapping = map_labels(cluster_assignment,df[\"Cluster\"])\n"
      ]
    },
    {
      "cell_type": "code",
      "execution_count": 18,
      "metadata": {
        "colab": {
          "base_uri": "https://localhost:8080/"
        },
        "id": "eFBpJkJDPMYT",
        "outputId": "f300b555-5fe8-4ce6-d82d-ee968e415567"
      },
      "outputs": [
        {
          "data": {
            "text/plain": [
              "{0: 0, 1: 6, 2: 5, 3: 2, 4: 3, 5: 4, 6: 1}"
            ]
          },
          "execution_count": 18,
          "metadata": {},
          "output_type": "execute_result"
        }
      ],
      "source": [
        "mapped_predicted_labels = np.array([label_mapping[label] for label in cluster_assignment])\n",
        "unique_values = np.unique(mapped_predicted_labels)\n",
        "label_mapping"
      ]
    },
    {
      "cell_type": "code",
      "execution_count": 19,
      "metadata": {
        "colab": {
          "base_uri": "https://localhost:8080/"
        },
        "id": "YP63poM7PRU8",
        "outputId": "5243dd48-96e4-41af-8297-a7d8aebffc22"
      },
      "outputs": [
        {
          "data": {
            "text/plain": [
              "0.29411764705882354"
            ]
          },
          "execution_count": 19,
          "metadata": {},
          "output_type": "execute_result"
        }
      ],
      "source": [
        "from sklearn.metrics import accuracy_score\n",
        "clustering_accuracy = accuracy_score(df[\"Cluster\"], mapped_predicted_labels)\n",
        "\n",
        "clustering_accuracy"
      ]
    }
  ],
  "metadata": {
    "colab": {
      "provenance": []
    },
    "kernelspec": {
      "display_name": "Python 3",
      "name": "python3"
    },
    "language_info": {
      "codemirror_mode": {
        "name": "ipython",
        "version": 3
      },
      "file_extension": ".py",
      "mimetype": "text/x-python",
      "name": "python",
      "nbconvert_exporter": "python",
      "pygments_lexer": "ipython3",
      "version": "3.10.2"
    }
  },
  "nbformat": 4,
  "nbformat_minor": 0
}
